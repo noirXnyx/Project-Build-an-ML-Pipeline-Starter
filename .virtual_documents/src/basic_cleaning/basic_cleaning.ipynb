


# Step 1: Import required libraries
import wandb
import pandas as pd

# Step 2: Import the `go` function from run.py
from run import go

# Step 3: Initialize Weights & Biases (W&B)
wandb.login()  # Ensure W&B is logged in
run = wandb.init(project="nyc_airbnb", group="cleaning", save_code=True)

# Step 4: Fetch and load the artifact from W&B
artifact = run.use_artifact("agrear5-western-governors-university/nyc_airbnb/sample.csv:latest")
artifact_local_path = artifact.file()
df = pd.read_csv(artifact_local_path)

# Display the first few rows to verify the data
print("Sample dataset fetched successfully!")
df.head()

# Step 5: Define a class to simulate command-line arguments
class Args:
    def __init__(self, input_artifact, output_artifact, output_type, output_description, min_price, max_price):
        self.input_artifact = input_artifact
        self.output_artifact = output_artifact
        self.output_type = output_type
        self.output_description = output_description
        self.min_price = min_price
        self.max_price = max_price

# Step 6: Set argument values 
args = Args(
    input_artifact="agrear5-western-governors-university/nyc_airbnb/sample.csv:latest", 
    output_artifact="cleaned_sample.csv",  
    output_type="cleaned",          
    output_description="Cleaned Airbnb dataset",  
    min_price=50.0, 
    max_price=500.0 
)

# Step 7: Run the function
go(args)

print("Data cleaning completed successfully!")




