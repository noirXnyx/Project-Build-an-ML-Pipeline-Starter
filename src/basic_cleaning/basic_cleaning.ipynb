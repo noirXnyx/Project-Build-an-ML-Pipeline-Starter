{
 "cells": [
  {
   "cell_type": "code",
   "execution_count": null,
   "id": "a98002b9-15e3-4672-9855-3c67a5e8f10c",
   "metadata": {},
   "outputs": [],
   "source": []
  },
  {
   "cell_type": "code",
   "execution_count": 16,
   "id": "a3dacb16-882e-4fb6-8f87-cf261f217c46",
   "metadata": {},
   "outputs": [
    {
     "name": "stderr",
     "output_type": "stream",
     "text": [
      "\u001b[34m\u001b[1mwandb\u001b[0m: \u001b[33mWARNING\u001b[0m Calling wandb.login() after wandb.init() has no effect.\n"
     ]
    },
    {
     "data": {
      "text/html": [
       "Finishing last run (ID:cn8wcd1k) before initializing another..."
      ],
      "text/plain": [
       "<IPython.core.display.HTML object>"
      ]
     },
     "metadata": {},
     "output_type": "display_data"
    },
    {
     "name": "stderr",
     "output_type": "stream",
     "text": [
      "wandb: WARNING Source type is set to 'repo' but some required information is missing from the environment. A job will not be created from this run. See https://docs.wandb.ai/guides/launch/create-job\n"
     ]
    },
    {
     "data": {
      "text/html": [
       " View run <strong style=\"color:#cdcd00\">mudslide-strudel-8</strong> at: <a href='https://wandb.ai/agrear5-western-governors-university/nyc_airbnb/runs/cn8wcd1k' target=\"_blank\">https://wandb.ai/agrear5-western-governors-university/nyc_airbnb/runs/cn8wcd1k</a><br/>Synced 7 W&B file(s), 0 media file(s), 0 artifact file(s) and 1 other file(s)"
      ],
      "text/plain": [
       "<IPython.core.display.HTML object>"
      ]
     },
     "metadata": {},
     "output_type": "display_data"
    },
    {
     "data": {
      "text/html": [
       "Find logs at: <code>./wandb/run-20250313_230938-cn8wcd1k/logs</code>"
      ],
      "text/plain": [
       "<IPython.core.display.HTML object>"
      ]
     },
     "metadata": {},
     "output_type": "display_data"
    },
    {
     "data": {
      "text/html": [
       "Successfully finished last run (ID:cn8wcd1k). Initializing new run:<br/>"
      ],
      "text/plain": [
       "<IPython.core.display.HTML object>"
      ]
     },
     "metadata": {},
     "output_type": "display_data"
    },
    {
     "data": {
      "text/html": [
       "wandb version 0.19.8 is available!  To upgrade, please run:\n",
       " $ pip install wandb --upgrade"
      ],
      "text/plain": [
       "<IPython.core.display.HTML object>"
      ]
     },
     "metadata": {},
     "output_type": "display_data"
    },
    {
     "data": {
      "text/html": [
       "Tracking run with wandb version 0.16.0"
      ],
      "text/plain": [
       "<IPython.core.display.HTML object>"
      ]
     },
     "metadata": {},
     "output_type": "display_data"
    },
    {
     "data": {
      "text/html": [
       "Run data is saved locally in <code>/home/nty_nyx/Project-Build-an-ML-Pipeline-Starter/src/basic_cleaning/wandb/run-20250313_231151-9vdln9kx</code>"
      ],
      "text/plain": [
       "<IPython.core.display.HTML object>"
      ]
     },
     "metadata": {},
     "output_type": "display_data"
    },
    {
     "data": {
      "text/html": [
       "Syncing run <strong><a href='https://wandb.ai/agrear5-western-governors-university/nyc_airbnb/runs/9vdln9kx' target=\"_blank\">strawberry-flambee-9</a></strong> to <a href='https://wandb.ai/agrear5-western-governors-university/nyc_airbnb' target=\"_blank\">Weights & Biases</a> (<a href='https://wandb.me/run' target=\"_blank\">docs</a>)<br/>"
      ],
      "text/plain": [
       "<IPython.core.display.HTML object>"
      ]
     },
     "metadata": {},
     "output_type": "display_data"
    },
    {
     "data": {
      "text/html": [
       " View project at <a href='https://wandb.ai/agrear5-western-governors-university/nyc_airbnb' target=\"_blank\">https://wandb.ai/agrear5-western-governors-university/nyc_airbnb</a>"
      ],
      "text/plain": [
       "<IPython.core.display.HTML object>"
      ]
     },
     "metadata": {},
     "output_type": "display_data"
    },
    {
     "data": {
      "text/html": [
       " View run at <a href='https://wandb.ai/agrear5-western-governors-university/nyc_airbnb/runs/9vdln9kx' target=\"_blank\">https://wandb.ai/agrear5-western-governors-university/nyc_airbnb/runs/9vdln9kx</a>"
      ],
      "text/plain": [
       "<IPython.core.display.HTML object>"
      ]
     },
     "metadata": {},
     "output_type": "display_data"
    },
    {
     "name": "stdout",
     "output_type": "stream",
     "text": [
      "Sample dataset fetched successfully!\n"
     ]
    },
    {
     "data": {
      "text/html": [
       "Finishing last run (ID:9vdln9kx) before initializing another..."
      ],
      "text/plain": [
       "<IPython.core.display.HTML object>"
      ]
     },
     "metadata": {},
     "output_type": "display_data"
    },
    {
     "name": "stderr",
     "output_type": "stream",
     "text": [
      "wandb: WARNING Source type is set to 'repo' but some required information is missing from the environment. A job will not be created from this run. See https://docs.wandb.ai/guides/launch/create-job\n"
     ]
    },
    {
     "data": {
      "text/html": [
       " View run <strong style=\"color:#cdcd00\">strawberry-flambee-9</strong> at: <a href='https://wandb.ai/agrear5-western-governors-university/nyc_airbnb/runs/9vdln9kx' target=\"_blank\">https://wandb.ai/agrear5-western-governors-university/nyc_airbnb/runs/9vdln9kx</a><br/>Synced 7 W&B file(s), 0 media file(s), 0 artifact file(s) and 0 other file(s)"
      ],
      "text/plain": [
       "<IPython.core.display.HTML object>"
      ]
     },
     "metadata": {},
     "output_type": "display_data"
    },
    {
     "data": {
      "text/html": [
       "Find logs at: <code>./wandb/run-20250313_231151-9vdln9kx/logs</code>"
      ],
      "text/plain": [
       "<IPython.core.display.HTML object>"
      ]
     },
     "metadata": {},
     "output_type": "display_data"
    },
    {
     "data": {
      "text/html": [
       "Successfully finished last run (ID:9vdln9kx). Initializing new run:<br/>"
      ],
      "text/plain": [
       "<IPython.core.display.HTML object>"
      ]
     },
     "metadata": {},
     "output_type": "display_data"
    },
    {
     "data": {
      "text/html": [
       "wandb version 0.19.8 is available!  To upgrade, please run:\n",
       " $ pip install wandb --upgrade"
      ],
      "text/plain": [
       "<IPython.core.display.HTML object>"
      ]
     },
     "metadata": {},
     "output_type": "display_data"
    },
    {
     "data": {
      "text/html": [
       "Tracking run with wandb version 0.16.0"
      ],
      "text/plain": [
       "<IPython.core.display.HTML object>"
      ]
     },
     "metadata": {},
     "output_type": "display_data"
    },
    {
     "data": {
      "text/html": [
       "Run data is saved locally in <code>/home/nty_nyx/Project-Build-an-ML-Pipeline-Starter/src/basic_cleaning/wandb/run-20250313_231203-f5qn4wv8</code>"
      ],
      "text/plain": [
       "<IPython.core.display.HTML object>"
      ]
     },
     "metadata": {},
     "output_type": "display_data"
    },
    {
     "data": {
      "text/html": [
       "Syncing run <strong><a href='https://wandb.ai/agrear5-western-governors-university/Project-Build-an-ML-Pipeline-Starter-src_basic_cleaning_src_basic_cleaning/runs/f5qn4wv8' target=\"_blank\">caramel-crumble-4</a></strong> to <a href='https://wandb.ai/agrear5-western-governors-university/Project-Build-an-ML-Pipeline-Starter-src_basic_cleaning_src_basic_cleaning' target=\"_blank\">Weights & Biases</a> (<a href='https://wandb.me/run' target=\"_blank\">docs</a>)<br/>"
      ],
      "text/plain": [
       "<IPython.core.display.HTML object>"
      ]
     },
     "metadata": {},
     "output_type": "display_data"
    },
    {
     "data": {
      "text/html": [
       " View project at <a href='https://wandb.ai/agrear5-western-governors-university/Project-Build-an-ML-Pipeline-Starter-src_basic_cleaning_src_basic_cleaning' target=\"_blank\">https://wandb.ai/agrear5-western-governors-university/Project-Build-an-ML-Pipeline-Starter-src_basic_cleaning_src_basic_cleaning</a>"
      ],
      "text/plain": [
       "<IPython.core.display.HTML object>"
      ]
     },
     "metadata": {},
     "output_type": "display_data"
    },
    {
     "data": {
      "text/html": [
       " View run at <a href='https://wandb.ai/agrear5-western-governors-university/Project-Build-an-ML-Pipeline-Starter-src_basic_cleaning_src_basic_cleaning/runs/f5qn4wv8' target=\"_blank\">https://wandb.ai/agrear5-western-governors-university/Project-Build-an-ML-Pipeline-Starter-src_basic_cleaning_src_basic_cleaning/runs/f5qn4wv8</a>"
      ],
      "text/plain": [
       "<IPython.core.display.HTML object>"
      ]
     },
     "metadata": {},
     "output_type": "display_data"
    },
    {
     "data": {
      "text/html": [
       "Finishing last run (ID:f5qn4wv8) before initializing another..."
      ],
      "text/plain": [
       "<IPython.core.display.HTML object>"
      ]
     },
     "metadata": {},
     "output_type": "display_data"
    },
    {
     "name": "stderr",
     "output_type": "stream",
     "text": [
      "wandb: WARNING Source type is set to 'repo' but some required information is missing from the environment. A job will not be created from this run. See https://docs.wandb.ai/guides/launch/create-job\n"
     ]
    },
    {
     "data": {
      "text/html": [
       " View run <strong style=\"color:#cdcd00\">caramel-crumble-4</strong> at: <a href='https://wandb.ai/agrear5-western-governors-university/Project-Build-an-ML-Pipeline-Starter-src_basic_cleaning_src_basic_cleaning/runs/f5qn4wv8' target=\"_blank\">https://wandb.ai/agrear5-western-governors-university/Project-Build-an-ML-Pipeline-Starter-src_basic_cleaning_src_basic_cleaning/runs/f5qn4wv8</a><br/>Synced 5 W&B file(s), 0 media file(s), 0 artifact file(s) and 0 other file(s)"
      ],
      "text/plain": [
       "<IPython.core.display.HTML object>"
      ]
     },
     "metadata": {},
     "output_type": "display_data"
    },
    {
     "data": {
      "text/html": [
       "Find logs at: <code>./wandb/run-20250313_231203-f5qn4wv8/logs</code>"
      ],
      "text/plain": [
       "<IPython.core.display.HTML object>"
      ]
     },
     "metadata": {},
     "output_type": "display_data"
    },
    {
     "data": {
      "text/html": [
       "Successfully finished last run (ID:f5qn4wv8). Initializing new run:<br/>"
      ],
      "text/plain": [
       "<IPython.core.display.HTML object>"
      ]
     },
     "metadata": {},
     "output_type": "display_data"
    },
    {
     "data": {
      "text/html": [
       "wandb version 0.19.8 is available!  To upgrade, please run:\n",
       " $ pip install wandb --upgrade"
      ],
      "text/plain": [
       "<IPython.core.display.HTML object>"
      ]
     },
     "metadata": {},
     "output_type": "display_data"
    },
    {
     "data": {
      "text/html": [
       "Tracking run with wandb version 0.16.0"
      ],
      "text/plain": [
       "<IPython.core.display.HTML object>"
      ]
     },
     "metadata": {},
     "output_type": "display_data"
    },
    {
     "data": {
      "text/html": [
       "Run data is saved locally in <code>/home/nty_nyx/Project-Build-an-ML-Pipeline-Starter/src/basic_cleaning/wandb/run-20250313_231211-wkm834g6</code>"
      ],
      "text/plain": [
       "<IPython.core.display.HTML object>"
      ]
     },
     "metadata": {},
     "output_type": "display_data"
    },
    {
     "data": {
      "text/html": [
       "Syncing run <strong><a href='https://wandb.ai/agrear5-western-governors-university/nyc_airbnb/runs/wkm834g6' target=\"_blank\">coconut-cream-flambee-10</a></strong> to <a href='https://wandb.ai/agrear5-western-governors-university/nyc_airbnb' target=\"_blank\">Weights & Biases</a> (<a href='https://wandb.me/run' target=\"_blank\">docs</a>)<br/>"
      ],
      "text/plain": [
       "<IPython.core.display.HTML object>"
      ]
     },
     "metadata": {},
     "output_type": "display_data"
    },
    {
     "data": {
      "text/html": [
       " View project at <a href='https://wandb.ai/agrear5-western-governors-university/nyc_airbnb' target=\"_blank\">https://wandb.ai/agrear5-western-governors-university/nyc_airbnb</a>"
      ],
      "text/plain": [
       "<IPython.core.display.HTML object>"
      ]
     },
     "metadata": {},
     "output_type": "display_data"
    },
    {
     "data": {
      "text/html": [
       " View run at <a href='https://wandb.ai/agrear5-western-governors-university/nyc_airbnb/runs/wkm834g6' target=\"_blank\">https://wandb.ai/agrear5-western-governors-university/nyc_airbnb/runs/wkm834g6</a>"
      ],
      "text/plain": [
       "<IPython.core.display.HTML object>"
      ]
     },
     "metadata": {},
     "output_type": "display_data"
    },
    {
     "name": "stdout",
     "output_type": "stream",
     "text": [
      "Data cleaning completed successfully!\n"
     ]
    }
   ],
   "source": [
    "# Step 1: Import required libraries\n",
    "import wandb\n",
    "import pandas as pd\n",
    "\n",
    "# Step 2: Import the `go` function from run.py\n",
    "from run import go\n",
    "\n",
    "# Step 3: Initialize Weights & Biases (W&B)\n",
    "wandb.login()  # Ensure W&B is logged in\n",
    "run = wandb.init(project=\"nyc_airbnb\", group=\"cleaning\", save_code=True)\n",
    "\n",
    "# Step 4: Fetch and load the artifact from W&B\n",
    "artifact = run.use_artifact(\"agrear5-western-governors-university/nyc_airbnb/sample.csv:latest\")\n",
    "artifact_local_path = artifact.file()\n",
    "df = pd.read_csv(artifact_local_path)\n",
    "\n",
    "# Display the first few rows to verify the data\n",
    "print(\"Sample dataset fetched successfully!\")\n",
    "df.head()\n",
    "\n",
    "# Step 5: Define a class to simulate command-line arguments\n",
    "class Args:\n",
    "    def __init__(self, input_artifact, output_artifact, output_type, output_description, min_price, max_price):\n",
    "        self.input_artifact = input_artifact\n",
    "        self.output_artifact = output_artifact\n",
    "        self.output_type = output_type\n",
    "        self.output_description = output_description\n",
    "        self.min_price = min_price\n",
    "        self.max_price = max_price\n",
    "\n",
    "# Step 6: Set argument values \n",
    "args = Args(\n",
    "    input_artifact=\"agrear5-western-governors-university/nyc_airbnb/sample.csv:latest\", \n",
    "    output_artifact=\"cleaned_sample.csv\",  \n",
    "    output_type=\"cleaned\",          \n",
    "    output_description=\"Cleaned Airbnb dataset\",  \n",
    "    min_price=50.0, \n",
    "    max_price=500.0 \n",
    ")\n",
    "\n",
    "# Step 7: Run the function\n",
    "go(args)\n",
    "\n",
    "print(\"Data cleaning completed successfully!\")\n"
   ]
  },
  {
   "cell_type": "code",
   "execution_count": null,
   "id": "5f47b2c0-f3bd-464f-ac3b-9d70a269414a",
   "metadata": {},
   "outputs": [],
   "source": []
  }
 ],
 "metadata": {
  "kernelspec": {
   "display_name": "Python 3 (ipykernel)",
   "language": "python",
   "name": "python3"
  },
  "language_info": {
   "codemirror_mode": {
    "name": "ipython",
    "version": 3
   },
   "file_extension": ".py",
   "mimetype": "text/x-python",
   "name": "python",
   "nbconvert_exporter": "python",
   "pygments_lexer": "ipython3",
   "version": "3.10.16"
  }
 },
 "nbformat": 4,
 "nbformat_minor": 5
}
